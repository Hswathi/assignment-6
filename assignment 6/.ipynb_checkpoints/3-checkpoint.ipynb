{
 "cells": [
  {
   "cell_type": "code",
   "execution_count": 3,
   "id": "457ca223",
   "metadata": {},
   "outputs": [
    {
     "name": "stdout",
     "output_type": "stream",
     "text": [
      "Input string = a\n",
      "New String = aa\n"
     ]
    }
   ],
   "source": [
    "inputString = \"thisisniceone\"\n",
    "count = 0\n",
    "for i in inputString:\n",
    "      count = count + 1\n",
    "newString = inputString[ 0:2 ] + inputString [count - 2: count ]\n",
    "print(\"Input string = \" + inputString)\n",
    "print(\"New String = \"+ newString)"
   ]
  },
  {
   "cell_type": "code",
   "execution_count": null,
   "id": "8d70e4fe",
   "metadata": {},
   "outputs": [],
   "source": []
  }
 ],
 "metadata": {
  "kernelspec": {
   "display_name": "Python 3 (ipykernel)",
   "language": "python",
   "name": "python3"
  },
  "language_info": {
   "codemirror_mode": {
    "name": "ipython",
    "version": 3
   },
   "file_extension": ".py",
   "mimetype": "text/x-python",
   "name": "python",
   "nbconvert_exporter": "python",
   "pygments_lexer": "ipython3",
   "version": "3.9.13"
  }
 },
 "nbformat": 4,
 "nbformat_minor": 5
}
