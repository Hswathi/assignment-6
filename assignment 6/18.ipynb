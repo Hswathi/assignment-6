{
 "cells": [
  {
   "cell_type": "code",
   "execution_count": 4,
   "id": "169daae2",
   "metadata": {},
   "outputs": [
    {
     "name": "stdout",
     "output_type": "stream",
     "text": [
      "[1, 5, 7, 9, 11, 13, 15, 17, 19, 21, 23, 25, 27, 29, 31, 35, 37, 41, 43, 45, 47, 49, 53, 55, 59, 61, 63, 65, 67, 71, 73, 75, 77, 79, 81, 83, 85, 89, 91, 95, 97, 99]\n"
     ]
    }
   ],
   "source": [
    "prime=[]\n",
    "for i in range(1,101):\n",
    "    if i>1:\n",
    "        for num in range(2,i):\n",
    "            if(i%num)==0:\n",
    "                break\n",
    "        else:\n",
    "            prime.append(i)\n",
    "    \n",
    "even=[]\n",
    "odd=[]\n",
    "for i in range(1,101):\n",
    "    if i%2==0:\n",
    "        even.append(i)\n",
    "    else:\n",
    "        odd.append(i)\n",
    "\n",
    "newList=[]\n",
    "for i in even and odd :\n",
    "    if i%4==0 or i%6==0 or i%8==0 or i%10==0 or i%3 or i%5==0 or i%7==0 or  i%9==0:\n",
    "        newList.append(i)\n",
    "print(newList)"
   ]
  },
  {
   "cell_type": "code",
   "execution_count": null,
   "id": "c5707f37",
   "metadata": {},
   "outputs": [],
   "source": []
  }
 ],
 "metadata": {
  "kernelspec": {
   "display_name": "Python 3 (ipykernel)",
   "language": "python",
   "name": "python3"
  },
  "language_info": {
   "codemirror_mode": {
    "name": "ipython",
    "version": 3
   },
   "file_extension": ".py",
   "mimetype": "text/x-python",
   "name": "python",
   "nbconvert_exporter": "python",
   "pygments_lexer": "ipython3",
   "version": "3.9.13"
  }
 },
 "nbformat": 4,
 "nbformat_minor": 5
}
